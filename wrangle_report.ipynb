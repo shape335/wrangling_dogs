{
 "cells": [
  {
   "cell_type": "markdown",
   "metadata": {},
   "source": [
    "# Introduction\n",
    "In a world where data is abundent, gathering and cleaning data is necessary for any data scientist to extract valuable insights. The focus of this project is to gather data from multiple sources, assess dirty data and then clean the data. The final part of the project runs an analysis on the clean dataset. \n",
    "\n",
    "# Gather\n",
    "\n",
    "In this project, data was gathered from three sources:\n",
    "\n",
    "- The WeRateDogs twitter archive that was provided by Udacity as a csv file. \n",
    "- The image prediction file that was hosted by Udacity serves and downloaded programmatically using request libary \n",
    "- Using twitters API and python's tweepy library, any missing information from WeRateDogs twiiter archive such as retweet counts and favorite counts are gathered. The tweet IDs in the WeRateDogs Twitter archive will be use to query the Twitter API for each JSON structure tweet using Python's Tweepy library and in a file called tweet_json.txt file. Each JSON formatted tweet should be written to its own line in a text file and then read line by line into a pandas DataFrame.\n",
    "\n",
    "# Assess\n",
    "The gathered data has to be assessed for the range of the cleaning issues required. When assessing, the type of cleaning is broken into two categories, tidy and dirty data issues. Below are each data issue that need to be address.\n",
    "\n",
    "## Quality\n",
    "\n",
    "### Twitter_archive\n",
    "- tweet_id should be a string instead of an integer\n",
    "- timestamp column should be datetime data type\n",
    "- 'Name' columns have incorrect names like 'a', 'such', 'None'\n",
    "- rename columns 'text' = 'tweet_text', 'name' = 'dog_name', 'source' = 'source_application'\n",
    "- in_reply_to_status_id/user_id, retweeted_status_id/user_id should be srings instead of float\n",
    "- ratings_numerator/denominator, retweets, and favorites should be integers instead of floats\n",
    "\n",
    "### Image_prediction\n",
    "- Tweet_id should be a string instead of an integer\n",
    "- Missing values from images dataset only 2075 entires\n",
    "- Some tweet_ids have the same jpg_url\n",
    "- Source columncan be cleaned\n",
    "\n",
    "### json dataframe\n",
    "- remove any duplicate tweet_id's\n",
    "\n",
    "## Tidiness\n",
    "- Merge all data tables together\n",
    "- Dog description in columns instead of rows\n",
    "- Too many columns in image prediciton could condense\n",
    "- Only interested in unique ratings, no retweets\n",
    "- Drop unnecessary columns and NaN rows\n",
    "- retweeted_status_id/user_id should be dropped\n",
    "\n",
    "Cleaning tidy data issues first is often the best way to start. When structral data issues are solved, cleaning quality data issues become simpler.\n",
    "\n",
    "# Conclusion\n",
    "\n",
    "Data wrangling skills are fundmental to anyone working with data. Nearly 80% of a data scientist time is spent wrangling data. If data wrangling is properly done, tons of time can be saved during analysis."
   ]
  },
  {
   "cell_type": "code",
   "execution_count": null,
   "metadata": {},
   "outputs": [],
   "source": []
  }
 ],
 "metadata": {
  "kernelspec": {
   "display_name": "Python [conda env:anaconda3]",
   "language": "python",
   "name": "conda-env-anaconda3-py"
  },
  "language_info": {
   "codemirror_mode": {
    "name": "ipython",
    "version": 3
   },
   "file_extension": ".py",
   "mimetype": "text/x-python",
   "name": "python",
   "nbconvert_exporter": "python",
   "pygments_lexer": "ipython3",
   "version": "3.6.5"
  }
 },
 "nbformat": 4,
 "nbformat_minor": 2
}
